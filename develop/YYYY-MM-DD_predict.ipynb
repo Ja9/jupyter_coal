{
 "cells": [
  {
   "cell_type": "markdown",
   "metadata": {
    "collapsed": true
   },
   "source": [
    "# Make a prediction about production"
   ]
  },
  {
   "cell_type": "code",
   "execution_count": 1,
   "metadata": {
    "collapsed": false
   },
   "outputs": [
    {
     "name": "stderr",
     "output_type": "stream",
     "text": [
      "C:\\Users\\Ja9\\Anaconda3\\lib\\site-packages\\sklearn\\cross_validation.py:44: DeprecationWarning: This module was deprecated in version 0.18 in favor of the model_selection module into which all the refactored classes and functions are moved. Also note that the interface of the new CV iterators are different from that of this module. This module will be removed in 0.20.\n",
      "  \"This module will be removed in 0.20.\", DeprecationWarning)\n"
     ]
    }
   ],
   "source": [
    "%matplotlib inline\n",
    "\n",
    "import numpy as np\n",
    "import matplotlib.pyplot as plt\n",
    "import pandas as pd\n",
    "import seaborn as sns\n",
    "\n",
    "from sklearn.cross_validation import train_test_split\n",
    "from sklearn.ensemble import RandomForestRegressor \n",
    "#input = true & predicted\n",
    "from sklearn.metrics import explained_variance_score, r2_score, mean_squared_error \n",
    "\n",
    "sns.set();"
   ]
  },
  {
   "cell_type": "code",
   "execution_count": 2,
   "metadata": {
    "collapsed": false
   },
   "outputs": [
    {
     "data": {
      "text/html": [
       "<div>\n",
       "<table border=\"1\" class=\"dataframe\">\n",
       "  <thead>\n",
       "    <tr style=\"text-align: right;\">\n",
       "      <th></th>\n",
       "      <th>Year</th>\n",
       "      <th>Mine_Name</th>\n",
       "      <th>Mine_State</th>\n",
       "      <th>Mine_County</th>\n",
       "      <th>Mine_Status</th>\n",
       "      <th>Mine_Type</th>\n",
       "      <th>Company_Type</th>\n",
       "      <th>Operation_Type</th>\n",
       "      <th>Operating_Company</th>\n",
       "      <th>Operating_Company_Address</th>\n",
       "      <th>Union_Code</th>\n",
       "      <th>Coal_Supply_Region</th>\n",
       "      <th>Production_(short_tons)</th>\n",
       "      <th>Average_Employees</th>\n",
       "      <th>Labor_Hours</th>\n",
       "      <th>log_production</th>\n",
       "    </tr>\n",
       "    <tr>\n",
       "      <th>MSHA ID</th>\n",
       "      <th></th>\n",
       "      <th></th>\n",
       "      <th></th>\n",
       "      <th></th>\n",
       "      <th></th>\n",
       "      <th></th>\n",
       "      <th></th>\n",
       "      <th></th>\n",
       "      <th></th>\n",
       "      <th></th>\n",
       "      <th></th>\n",
       "      <th></th>\n",
       "      <th></th>\n",
       "      <th></th>\n",
       "      <th></th>\n",
       "      <th></th>\n",
       "    </tr>\n",
       "  </thead>\n",
       "  <tbody>\n",
       "    <tr>\n",
       "      <th>103381</th>\n",
       "      <td>2013</td>\n",
       "      <td>Tacoa Highwall Miner</td>\n",
       "      <td>Alabama</td>\n",
       "      <td>Bibb</td>\n",
       "      <td>Active, men working, not producing</td>\n",
       "      <td>Surface</td>\n",
       "      <td>Independent Producer Operator</td>\n",
       "      <td>Mine only</td>\n",
       "      <td>Jesse Creek Mining, Llc</td>\n",
       "      <td>1615 Kent Dairy Rd, Alabaster, AL 35007</td>\n",
       "      <td></td>\n",
       "      <td>Appalachia Southern</td>\n",
       "      <td>56004</td>\n",
       "      <td>10</td>\n",
       "      <td>22392</td>\n",
       "      <td>10.933178</td>\n",
       "    </tr>\n",
       "    <tr>\n",
       "      <th>103404</th>\n",
       "      <td>2013</td>\n",
       "      <td>Reid School Mine</td>\n",
       "      <td>Alabama</td>\n",
       "      <td>Blount</td>\n",
       "      <td>Permanently abandoned</td>\n",
       "      <td>Surface</td>\n",
       "      <td>Independent Producer Operator</td>\n",
       "      <td>Mine only</td>\n",
       "      <td>Taft Coal Sales &amp; Associates,</td>\n",
       "      <td>3000 Riverchase Galleria Ste 1, Birmingham, AL...</td>\n",
       "      <td>UNIT</td>\n",
       "      <td>Appalachia Southern</td>\n",
       "      <td>28807</td>\n",
       "      <td>18</td>\n",
       "      <td>28447</td>\n",
       "      <td>10.268374</td>\n",
       "    </tr>\n",
       "    <tr>\n",
       "      <th>100759</th>\n",
       "      <td>2013</td>\n",
       "      <td>North River #1 Underground Min</td>\n",
       "      <td>Alabama</td>\n",
       "      <td>Fayette</td>\n",
       "      <td>Active, men working, not producing</td>\n",
       "      <td>Underground</td>\n",
       "      <td>Independent Producer Operator</td>\n",
       "      <td>Mine and Preparation Plant</td>\n",
       "      <td>Jim Walter Resources Inc</td>\n",
       "      <td>3114 County Rd 63 S, Berry, AL 35546</td>\n",
       "      <td>UNIT</td>\n",
       "      <td>Appalachia Southern</td>\n",
       "      <td>1440115</td>\n",
       "      <td>183</td>\n",
       "      <td>474784</td>\n",
       "      <td>14.180234</td>\n",
       "    </tr>\n",
       "    <tr>\n",
       "      <th>103246</th>\n",
       "      <td>2013</td>\n",
       "      <td>Bear Creek</td>\n",
       "      <td>Alabama</td>\n",
       "      <td>Franklin</td>\n",
       "      <td>Active</td>\n",
       "      <td>Surface</td>\n",
       "      <td>Independent Producer Operator</td>\n",
       "      <td>Mine only</td>\n",
       "      <td>Birmingham Coal &amp; Coke Co., In</td>\n",
       "      <td>912 Edenton Street, Birmingham, AL 35242</td>\n",
       "      <td></td>\n",
       "      <td>Appalachia Southern</td>\n",
       "      <td>87587</td>\n",
       "      <td>13</td>\n",
       "      <td>29193</td>\n",
       "      <td>11.380388</td>\n",
       "    </tr>\n",
       "    <tr>\n",
       "      <th>103451</th>\n",
       "      <td>2013</td>\n",
       "      <td>Knight Mine</td>\n",
       "      <td>Alabama</td>\n",
       "      <td>Franklin</td>\n",
       "      <td>Active</td>\n",
       "      <td>Surface</td>\n",
       "      <td>Independent Producer Operator</td>\n",
       "      <td>Mine only</td>\n",
       "      <td>Birmingham Coal &amp; Coke Co., In</td>\n",
       "      <td>P.O. Box 354, Lynn, AL 35242</td>\n",
       "      <td></td>\n",
       "      <td>Appalachia Southern</td>\n",
       "      <td>147499</td>\n",
       "      <td>27</td>\n",
       "      <td>46393</td>\n",
       "      <td>11.901577</td>\n",
       "    </tr>\n",
       "  </tbody>\n",
       "</table>\n",
       "</div>"
      ],
      "text/plain": [
       "         Year                       Mine_Name Mine_State Mine_County  \\\n",
       "MSHA ID                                                                \n",
       "103381   2013            Tacoa Highwall Miner    Alabama        Bibb   \n",
       "103404   2013                Reid School Mine    Alabama      Blount   \n",
       "100759   2013  North River #1 Underground Min    Alabama     Fayette   \n",
       "103246   2013                      Bear Creek    Alabama    Franklin   \n",
       "103451   2013                     Knight Mine    Alabama    Franklin   \n",
       "\n",
       "                                Mine_Status    Mine_Type  \\\n",
       "MSHA ID                                                    \n",
       "103381   Active, men working, not producing      Surface   \n",
       "103404                Permanently abandoned      Surface   \n",
       "100759   Active, men working, not producing  Underground   \n",
       "103246                               Active      Surface   \n",
       "103451                               Active      Surface   \n",
       "\n",
       "                          Company_Type              Operation_Type  \\\n",
       "MSHA ID                                                              \n",
       "103381   Independent Producer Operator                   Mine only   \n",
       "103404   Independent Producer Operator                   Mine only   \n",
       "100759   Independent Producer Operator  Mine and Preparation Plant   \n",
       "103246   Independent Producer Operator                   Mine only   \n",
       "103451   Independent Producer Operator                   Mine only   \n",
       "\n",
       "                      Operating_Company  \\\n",
       "MSHA ID                                   \n",
       "103381          Jesse Creek Mining, Llc   \n",
       "103404    Taft Coal Sales & Associates,   \n",
       "100759         Jim Walter Resources Inc   \n",
       "103246   Birmingham Coal & Coke Co., In   \n",
       "103451   Birmingham Coal & Coke Co., In   \n",
       "\n",
       "                                 Operating_Company_Address Union_Code  \\\n",
       "MSHA ID                                                                 \n",
       "103381             1615 Kent Dairy Rd, Alabaster, AL 35007              \n",
       "103404   3000 Riverchase Galleria Ste 1, Birmingham, AL...       UNIT   \n",
       "100759                3114 County Rd 63 S, Berry, AL 35546       UNIT   \n",
       "103246            912 Edenton Street, Birmingham, AL 35242              \n",
       "103451                        P.O. Box 354, Lynn, AL 35242              \n",
       "\n",
       "          Coal_Supply_Region  Production_(short_tons)  Average_Employees  \\\n",
       "MSHA ID                                                                    \n",
       "103381   Appalachia Southern                    56004                 10   \n",
       "103404   Appalachia Southern                    28807                 18   \n",
       "100759   Appalachia Southern                  1440115                183   \n",
       "103246   Appalachia Southern                    87587                 13   \n",
       "103451   Appalachia Southern                   147499                 27   \n",
       "\n",
       "         Labor_Hours  log_production  \n",
       "MSHA ID                               \n",
       "103381         22392       10.933178  \n",
       "103404         28447       10.268374  \n",
       "100759        474784       14.180234  \n",
       "103246         29193       11.380388  \n",
       "103451         46393       11.901577  "
      ]
     },
     "execution_count": 2,
     "metadata": {},
     "output_type": "execute_result"
    }
   ],
   "source": [
    "df = pd.read_csv(\"../data/cleaned_coal_data.csv\", index_col='MSHA ID')\n",
    "df.head()"
   ]
  },
  {
   "cell_type": "code",
   "execution_count": 3,
   "metadata": {
    "collapsed": false
   },
   "outputs": [
    {
     "data": {
      "text/plain": [
       "1061"
      ]
     },
     "execution_count": 3,
     "metadata": {},
     "output_type": "execute_result"
    }
   ],
   "source": [
    "len(df)"
   ]
  },
  {
   "cell_type": "code",
   "execution_count": 4,
   "metadata": {
    "collapsed": false
   },
   "outputs": [
    {
     "name": "stdout",
     "output_type": "stream",
     "text": [
      "Year\n",
      "Mine_Name\n",
      "Mine_State\n",
      "Mine_County\n",
      "Mine_Status\n",
      "Mine_Type\n",
      "Company_Type\n",
      "Operation_Type\n",
      "Operating_Company\n",
      "Operating_Company_Address\n",
      "Union_Code\n",
      "Coal_Supply_Region\n",
      "Production_(short_tons)\n",
      "Average_Employees\n",
      "Labor_Hours\n",
      "log_production\n"
     ]
    }
   ],
   "source": [
    "for column in df.columns:\n",
    "    print(column)"
   ]
  },
  {
   "cell_type": "code",
   "execution_count": 5,
   "metadata": {
    "collapsed": false
   },
   "outputs": [
    {
     "data": {
      "text/plain": [
       "<matplotlib.axes._subplots.AxesSubplot at 0x1c6a6504400>"
      ]
     },
     "execution_count": 5,
     "metadata": {},
     "output_type": "execute_result"
    },
    {
     "data": {
      "image/png": "[encoded data removed]",
      "text/plain": [
       "<matplotlib.figure.Figure at 0x1c6a5d0cdd8>"
      ]
     },
     "metadata": {},
     "output_type": "display_data"
    }
   ],
   "source": [
    "df.log_production.hist()"
   ]
  },
  {
   "cell_type": "code",
   "execution_count": 6,
   "metadata": {
    "collapsed": false
   },
   "outputs": [
    {
     "data": {
      "text/plain": [
       "array(['Active, men working, not producing', 'Permanently abandoned',\n",
       "       'Active', 'Temporarily closed', 'New, under construction'], dtype=object)"
      ]
     },
     "execution_count": 6,
     "metadata": {},
     "output_type": "execute_result"
    }
   ],
   "source": [
    "df.Mine_Status.unique()"
   ]
  },
  {
   "cell_type": "code",
   "execution_count": 7,
   "metadata": {
    "collapsed": false
   },
   "outputs": [
    {
     "data": {
      "text/html": [
       "<div>\n",
       "<table border=\"1\" class=\"dataframe\">\n",
       "  <thead>\n",
       "    <tr style=\"text-align: right;\">\n",
       "      <th></th>\n",
       "      <th>Production_(short_tons)</th>\n",
       "    </tr>\n",
       "    <tr>\n",
       "      <th>Mine_Status</th>\n",
       "      <th></th>\n",
       "    </tr>\n",
       "  </thead>\n",
       "  <tbody>\n",
       "    <tr>\n",
       "      <th>Active</th>\n",
       "      <td>1.283471e+06</td>\n",
       "    </tr>\n",
       "    <tr>\n",
       "      <th>Active, men working, not producing</th>\n",
       "      <td>1.259756e+05</td>\n",
       "    </tr>\n",
       "    <tr>\n",
       "      <th>New, under construction</th>\n",
       "      <td>5.200000e+01</td>\n",
       "    </tr>\n",
       "    <tr>\n",
       "      <th>Permanently abandoned</th>\n",
       "      <td>6.050497e+04</td>\n",
       "    </tr>\n",
       "    <tr>\n",
       "      <th>Temporarily closed</th>\n",
       "      <td>2.966640e+04</td>\n",
       "    </tr>\n",
       "  </tbody>\n",
       "</table>\n",
       "</div>"
      ],
      "text/plain": [
       "                                    Production_(short_tons)\n",
       "Mine_Status                                                \n",
       "Active                                         1.283471e+06\n",
       "Active, men working, not producing             1.259756e+05\n",
       "New, under construction                        5.200000e+01\n",
       "Permanently abandoned                          6.050497e+04\n",
       "Temporarily closed                             2.966640e+04"
      ]
     },
     "execution_count": 7,
     "metadata": {},
     "output_type": "execute_result"
    }
   ],
   "source": [
    "df[['Mine_Status','Production_(short_tons)']].groupby('Mine_Status').mean()"
   ]
  },
  {
   "cell_type": "code",
   "execution_count": 8,
   "metadata": {
    "collapsed": false
   },
   "outputs": [
    {
     "data": {
      "text/html": [
       "<div>\n",
       "<table border=\"1\" class=\"dataframe\">\n",
       "  <thead>\n",
       "    <tr style=\"text-align: right;\">\n",
       "      <th></th>\n",
       "      <th>log_production</th>\n",
       "    </tr>\n",
       "    <tr>\n",
       "      <th>Mine_Status</th>\n",
       "      <th></th>\n",
       "    </tr>\n",
       "  </thead>\n",
       "  <tbody>\n",
       "    <tr>\n",
       "      <th>Active</th>\n",
       "      <td>11.977453</td>\n",
       "    </tr>\n",
       "    <tr>\n",
       "      <th>Active, men working, not producing</th>\n",
       "      <td>10.499962</td>\n",
       "    </tr>\n",
       "    <tr>\n",
       "      <th>New, under construction</th>\n",
       "      <td>3.951244</td>\n",
       "    </tr>\n",
       "    <tr>\n",
       "      <th>Permanently abandoned</th>\n",
       "      <td>9.896046</td>\n",
       "    </tr>\n",
       "    <tr>\n",
       "      <th>Temporarily closed</th>\n",
       "      <td>9.162933</td>\n",
       "    </tr>\n",
       "  </tbody>\n",
       "</table>\n",
       "</div>"
      ],
      "text/plain": [
       "                                    log_production\n",
       "Mine_Status                                       \n",
       "Active                                   11.977453\n",
       "Active, men working, not producing       10.499962\n",
       "New, under construction                   3.951244\n",
       "Permanently abandoned                     9.896046\n",
       "Temporarily closed                        9.162933"
      ]
     },
     "execution_count": 8,
     "metadata": {},
     "output_type": "execute_result"
    }
   ],
   "source": [
    "df[['Mine_Status','log_production']].groupby('Mine_Status').mean()"
   ]
  },
  {
   "cell_type": "markdown",
   "metadata": {},
   "source": [
    "# Predict production of mines"
   ]
  },
  {
   "cell_type": "code",
   "execution_count": 9,
   "metadata": {
    "collapsed": false
   },
   "outputs": [
    {
     "name": "stdout",
     "output_type": "stream",
     "text": [
      "Year\n",
      "Mine_Name\n",
      "Mine_State\n",
      "Mine_County\n",
      "Mine_Status\n",
      "Mine_Type\n",
      "Company_Type\n",
      "Operation_Type\n",
      "Operating_Company\n",
      "Operating_Company_Address\n",
      "Union_Code\n",
      "Coal_Supply_Region\n",
      "Production_(short_tons)\n",
      "Average_Employees\n",
      "Labor_Hours\n",
      "log_production\n"
     ]
    }
   ],
   "source": [
    "for column in df.columns:\n",
    "    print(column)"
   ]
  },
  {
   "cell_type": "code",
   "execution_count": 10,
   "metadata": {
    "collapsed": false
   },
   "outputs": [
    {
     "data": {
      "text/plain": [
       "array([' ', 'UNIT', 'United Mine Workers of America', 'INTE',\n",
       "       'International Union of Operation Engineers',\n",
       "       'Scotia Employees Association', 'Western Energy Workers'], dtype=object)"
      ]
     },
     "execution_count": 10,
     "metadata": {},
     "output_type": "execute_result"
    }
   ],
   "source": [
    "df.Union_Code.unique()"
   ]
  },
  {
   "cell_type": "code",
   "execution_count": 11,
   "metadata": {
    "collapsed": false
   },
   "outputs": [
    {
     "data": {
      "text/plain": [
       "array([2013], dtype=int64)"
      ]
     },
     "execution_count": 11,
     "metadata": {},
     "output_type": "execute_result"
    }
   ],
   "source": [
    "df.Year.unique()"
   ]
  },
  {
   "cell_type": "code",
   "execution_count": 12,
   "metadata": {
    "collapsed": true
   },
   "outputs": [],
   "source": [
    "#indent: highlight + Ctrl + ] \n",
    "#numerical\n",
    "features = ['Average_Employees',\n",
    "            'Labor_Hours',\n",
    "           ]\n",
    "#non-numerical\n",
    "#have to turn into numbers with dummy vars\n",
    "categoricals = ['Mine_State',\n",
    "            'Mine_County',\n",
    "            'Mine_Status',\n",
    "            'Mine_Type',\n",
    "            'Company_Type',\n",
    "            'Operation_Type',\n",
    "            'Operating_Company',\n",
    "            'Union_Code',\n",
    "            'Coal_Supply_Region',\n",
    "           ]\n",
    "\n",
    "target = 'log_production'"
   ]
  },
  {
   "cell_type": "code",
   "execution_count": 13,
   "metadata": {
    "collapsed": false
   },
   "outputs": [
    {
     "data": {
      "image/png": "[encoded data removed]",
      "text/plain": [
       "<matplotlib.figure.Figure at 0x1c6a6131400>"
      ]
     },
     "metadata": {},
     "output_type": "display_data"
    }
   ],
   "source": [
    "fig = plt.subplots(figsize=(14,8))\n",
    "sns.set_context('poster')\n",
    "sns.violinplot(y=\"Mine_Status\",x=\"log_production\",\n",
    "              data=df,split=True,inner=\"stick\")\n",
    "plt.tight_layout()"
   ]
  },
  {
   "cell_type": "code",
   "execution_count": 14,
   "metadata": {
    "collapsed": false
   },
   "outputs": [
    {
     "data": {
      "image/png": "[encoded data removed]",
      "text/plain": [
       "<matplotlib.figure.Figure at 0x1c6a7133e48>"
      ]
     },
     "metadata": {},
     "output_type": "display_data"
    }
   ],
   "source": [
    "fig = plt.subplots(figsize=(14,8))\n",
    "sns.set_context('poster')\n",
    "sns.violinplot(y=\"Company_Type\",x=\"log_production\",\n",
    "              data=df,split=True,inner=\"stick\")\n",
    "plt.tight_layout()"
   ]
  },
  {
   "cell_type": "code",
   "execution_count": 15,
   "metadata": {
    "collapsed": false
   },
   "outputs": [
    {
     "data": {
      "text/plain": [
       "array(['Independent Producer Operator', 'Operating Subsidiary',\n",
       "       'Contractor'], dtype=object)"
      ]
     },
     "execution_count": 15,
     "metadata": {},
     "output_type": "execute_result"
    }
   ],
   "source": [
    "df['Company_Type'].unique()"
   ]
  },
  {
   "cell_type": "code",
   "execution_count": 16,
   "metadata": {
    "collapsed": false
   },
   "outputs": [
    {
     "data": {
      "text/html": [
       "<div>\n",
       "<table border=\"1\" class=\"dataframe\">\n",
       "  <thead>\n",
       "    <tr style=\"text-align: right;\">\n",
       "      <th></th>\n",
       "      <th>Contractor</th>\n",
       "      <th>Independent Producer Operator</th>\n",
       "      <th>Operating Subsidiary</th>\n",
       "    </tr>\n",
       "    <tr>\n",
       "      <th>MSHA ID</th>\n",
       "      <th></th>\n",
       "      <th></th>\n",
       "      <th></th>\n",
       "    </tr>\n",
       "  </thead>\n",
       "  <tbody>\n",
       "    <tr>\n",
       "      <th>3200491</th>\n",
       "      <td>0</td>\n",
       "      <td>0</td>\n",
       "      <td>1</td>\n",
       "    </tr>\n",
       "    <tr>\n",
       "      <th>4609362</th>\n",
       "      <td>0</td>\n",
       "      <td>1</td>\n",
       "      <td>0</td>\n",
       "    </tr>\n",
       "    <tr>\n",
       "      <th>3609214</th>\n",
       "      <td>0</td>\n",
       "      <td>1</td>\n",
       "      <td>0</td>\n",
       "    </tr>\n",
       "    <tr>\n",
       "      <th>4200079</th>\n",
       "      <td>0</td>\n",
       "      <td>1</td>\n",
       "      <td>0</td>\n",
       "    </tr>\n",
       "    <tr>\n",
       "      <th>103172</th>\n",
       "      <td>0</td>\n",
       "      <td>1</td>\n",
       "      <td>0</td>\n",
       "    </tr>\n",
       "  </tbody>\n",
       "</table>\n",
       "</div>"
      ],
      "text/plain": [
       "         Contractor  Independent Producer Operator  Operating Subsidiary\n",
       "MSHA ID                                                                 \n",
       "3200491           0                              0                     1\n",
       "4609362           0                              1                     0\n",
       "3609214           0                              1                     0\n",
       "4200079           0                              1                     0\n",
       "103172            0                              1                     0"
      ]
     },
     "execution_count": 16,
     "metadata": {},
     "output_type": "execute_result"
    }
   ],
   "source": [
    "pd.get_dummies(df['Company_Type']).sample(50).head()"
   ]
  },
  {
   "cell_type": "code",
   "execution_count": 17,
   "metadata": {
    "collapsed": false
   },
   "outputs": [
    {
     "data": {
      "text/html": [
       "<div>\n",
       "<table border=\"1\" class=\"dataframe\">\n",
       "  <thead>\n",
       "    <tr style=\"text-align: right;\">\n",
       "      <th></th>\n",
       "      <th>Mine_State_Alabama</th>\n",
       "      <th>Mine_State_Alaska</th>\n",
       "      <th>Mine_State_Arizona</th>\n",
       "      <th>Mine_State_Arkansas</th>\n",
       "      <th>Mine_State_Colorado</th>\n",
       "      <th>Mine_State_Illinois</th>\n",
       "      <th>Mine_State_Indiana</th>\n",
       "      <th>Mine_State_Kansas</th>\n",
       "      <th>Mine_State_Kentucky (East)</th>\n",
       "      <th>Mine_State_Kentucky (West)</th>\n",
       "      <th>...</th>\n",
       "      <th>Union_Code_United Mine Workers of America</th>\n",
       "      <th>Union_Code_Western Energy Workers</th>\n",
       "      <th>Coal_Supply_Region_Appalachia Central</th>\n",
       "      <th>Coal_Supply_Region_Appalachia Northern</th>\n",
       "      <th>Coal_Supply_Region_Appalachia Southern</th>\n",
       "      <th>Coal_Supply_Region_Illinois Basin</th>\n",
       "      <th>Coal_Supply_Region_Interior</th>\n",
       "      <th>Coal_Supply_Region_Powder River Basin</th>\n",
       "      <th>Coal_Supply_Region_Uinta Region</th>\n",
       "      <th>Coal_Supply_Region_Western</th>\n",
       "    </tr>\n",
       "    <tr>\n",
       "      <th>MSHA ID</th>\n",
       "      <th></th>\n",
       "      <th></th>\n",
       "      <th></th>\n",
       "      <th></th>\n",
       "      <th></th>\n",
       "      <th></th>\n",
       "      <th></th>\n",
       "      <th></th>\n",
       "      <th></th>\n",
       "      <th></th>\n",
       "      <th></th>\n",
       "      <th></th>\n",
       "      <th></th>\n",
       "      <th></th>\n",
       "      <th></th>\n",
       "      <th></th>\n",
       "      <th></th>\n",
       "      <th></th>\n",
       "      <th></th>\n",
       "      <th></th>\n",
       "      <th></th>\n",
       "    </tr>\n",
       "  </thead>\n",
       "  <tbody>\n",
       "    <tr>\n",
       "      <th>103381</th>\n",
       "      <td>1</td>\n",
       "      <td>0</td>\n",
       "      <td>0</td>\n",
       "      <td>0</td>\n",
       "      <td>0</td>\n",
       "      <td>0</td>\n",
       "      <td>0</td>\n",
       "      <td>0</td>\n",
       "      <td>0</td>\n",
       "      <td>0</td>\n",
       "      <td>...</td>\n",
       "      <td>0</td>\n",
       "      <td>0</td>\n",
       "      <td>0</td>\n",
       "      <td>0</td>\n",
       "      <td>1</td>\n",
       "      <td>0</td>\n",
       "      <td>0</td>\n",
       "      <td>0</td>\n",
       "      <td>0</td>\n",
       "      <td>0</td>\n",
       "    </tr>\n",
       "    <tr>\n",
       "      <th>103404</th>\n",
       "      <td>1</td>\n",
       "      <td>0</td>\n",
       "      <td>0</td>\n",
       "      <td>0</td>\n",
       "      <td>0</td>\n",
       "      <td>0</td>\n",
       "      <td>0</td>\n",
       "      <td>0</td>\n",
       "      <td>0</td>\n",
       "      <td>0</td>\n",
       "      <td>...</td>\n",
       "      <td>0</td>\n",
       "      <td>0</td>\n",
       "      <td>0</td>\n",
       "      <td>0</td>\n",
       "      <td>1</td>\n",
       "      <td>0</td>\n",
       "      <td>0</td>\n",
       "      <td>0</td>\n",
       "      <td>0</td>\n",
       "      <td>0</td>\n",
       "    </tr>\n",
       "    <tr>\n",
       "      <th>100759</th>\n",
       "      <td>1</td>\n",
       "      <td>0</td>\n",
       "      <td>0</td>\n",
       "      <td>0</td>\n",
       "      <td>0</td>\n",
       "      <td>0</td>\n",
       "      <td>0</td>\n",
       "      <td>0</td>\n",
       "      <td>0</td>\n",
       "      <td>0</td>\n",
       "      <td>...</td>\n",
       "      <td>0</td>\n",
       "      <td>0</td>\n",
       "      <td>0</td>\n",
       "      <td>0</td>\n",
       "      <td>1</td>\n",
       "      <td>0</td>\n",
       "      <td>0</td>\n",
       "      <td>0</td>\n",
       "      <td>0</td>\n",
       "      <td>0</td>\n",
       "    </tr>\n",
       "    <tr>\n",
       "      <th>103246</th>\n",
       "      <td>1</td>\n",
       "      <td>0</td>\n",
       "      <td>0</td>\n",
       "      <td>0</td>\n",
       "      <td>0</td>\n",
       "      <td>0</td>\n",
       "      <td>0</td>\n",
       "      <td>0</td>\n",
       "      <td>0</td>\n",
       "      <td>0</td>\n",
       "      <td>...</td>\n",
       "      <td>0</td>\n",
       "      <td>0</td>\n",
       "      <td>0</td>\n",
       "      <td>0</td>\n",
       "      <td>1</td>\n",
       "      <td>0</td>\n",
       "      <td>0</td>\n",
       "      <td>0</td>\n",
       "      <td>0</td>\n",
       "      <td>0</td>\n",
       "    </tr>\n",
       "    <tr>\n",
       "      <th>103451</th>\n",
       "      <td>1</td>\n",
       "      <td>0</td>\n",
       "      <td>0</td>\n",
       "      <td>0</td>\n",
       "      <td>0</td>\n",
       "      <td>0</td>\n",
       "      <td>0</td>\n",
       "      <td>0</td>\n",
       "      <td>0</td>\n",
       "      <td>0</td>\n",
       "      <td>...</td>\n",
       "      <td>0</td>\n",
       "      <td>0</td>\n",
       "      <td>0</td>\n",
       "      <td>0</td>\n",
       "      <td>1</td>\n",
       "      <td>0</td>\n",
       "      <td>0</td>\n",
       "      <td>0</td>\n",
       "      <td>0</td>\n",
       "      <td>0</td>\n",
       "    </tr>\n",
       "  </tbody>\n",
       "</table>\n",
       "<p>5 rows × 973 columns</p>\n",
       "</div>"
      ],
      "text/plain": [
       "         Mine_State_Alabama  Mine_State_Alaska  Mine_State_Arizona  \\\n",
       "MSHA ID                                                              \n",
       "103381                    1                  0                   0   \n",
       "103404                    1                  0                   0   \n",
       "100759                    1                  0                   0   \n",
       "103246                    1                  0                   0   \n",
       "103451                    1                  0                   0   \n",
       "\n",
       "         Mine_State_Arkansas  Mine_State_Colorado  Mine_State_Illinois  \\\n",
       "MSHA ID                                                                  \n",
       "103381                     0                    0                    0   \n",
       "103404                     0                    0                    0   \n",
       "100759                     0                    0                    0   \n",
       "103246                     0                    0                    0   \n",
       "103451                     0                    0                    0   \n",
       "\n",
       "         Mine_State_Indiana  Mine_State_Kansas  Mine_State_Kentucky (East)  \\\n",
       "MSHA ID                                                                      \n",
       "103381                    0                  0                           0   \n",
       "103404                    0                  0                           0   \n",
       "100759                    0                  0                           0   \n",
       "103246                    0                  0                           0   \n",
       "103451                    0                  0                           0   \n",
       "\n",
       "         Mine_State_Kentucky (West)             ...              \\\n",
       "MSHA ID                                         ...               \n",
       "103381                            0             ...               \n",
       "103404                            0             ...               \n",
       "100759                            0             ...               \n",
       "103246                            0             ...               \n",
       "103451                            0             ...               \n",
       "\n",
       "         Union_Code_United Mine Workers of America  \\\n",
       "MSHA ID                                              \n",
       "103381                                           0   \n",
       "103404                                           0   \n",
       "100759                                           0   \n",
       "103246                                           0   \n",
       "103451                                           0   \n",
       "\n",
       "         Union_Code_Western Energy Workers  \\\n",
       "MSHA ID                                      \n",
       "103381                                   0   \n",
       "103404                                   0   \n",
       "100759                                   0   \n",
       "103246                                   0   \n",
       "103451                                   0   \n",
       "\n",
       "         Coal_Supply_Region_Appalachia Central  \\\n",
       "MSHA ID                                          \n",
       "103381                                       0   \n",
       "103404                                       0   \n",
       "100759                                       0   \n",
       "103246                                       0   \n",
       "103451                                       0   \n",
       "\n",
       "         Coal_Supply_Region_Appalachia Northern  \\\n",
       "MSHA ID                                           \n",
       "103381                                        0   \n",
       "103404                                        0   \n",
       "100759                                        0   \n",
       "103246                                        0   \n",
       "103451                                        0   \n",
       "\n",
       "         Coal_Supply_Region_Appalachia Southern  \\\n",
       "MSHA ID                                           \n",
       "103381                                        1   \n",
       "103404                                        1   \n",
       "100759                                        1   \n",
       "103246                                        1   \n",
       "103451                                        1   \n",
       "\n",
       "         Coal_Supply_Region_Illinois Basin  Coal_Supply_Region_Interior  \\\n",
       "MSHA ID                                                                   \n",
       "103381                                   0                            0   \n",
       "103404                                   0                            0   \n",
       "100759                                   0                            0   \n",
       "103246                                   0                            0   \n",
       "103451                                   0                            0   \n",
       "\n",
       "         Coal_Supply_Region_Powder River Basin  \\\n",
       "MSHA ID                                          \n",
       "103381                                       0   \n",
       "103404                                       0   \n",
       "100759                                       0   \n",
       "103246                                       0   \n",
       "103451                                       0   \n",
       "\n",
       "         Coal_Supply_Region_Uinta Region  Coal_Supply_Region_Western  \n",
       "MSHA ID                                                               \n",
       "103381                                 0                           0  \n",
       "103404                                 0                           0  \n",
       "100759                                 0                           0  \n",
       "103246                                 0                           0  \n",
       "103451                                 0                           0  \n",
       "\n",
       "[5 rows x 973 columns]"
      ]
     },
     "execution_count": 17,
     "metadata": {},
     "output_type": "execute_result"
    }
   ],
   "source": [
    "pd.get_dummies(df[categoricals]).head()"
   ]
  },
  {
   "cell_type": "code",
   "execution_count": 18,
   "metadata": {
    "collapsed": false
   },
   "outputs": [
    {
     "name": "stdout",
     "output_type": "stream",
     "text": [
      "Mine_State 29\n",
      "Mine_County 164\n",
      "Mine_Status 5\n",
      "Mine_Type 3\n",
      "Company_Type 3\n",
      "Operation_Type 2\n",
      "Operating_Company 752\n",
      "Union_Code 7\n",
      "Coal_Supply_Region 8\n"
     ]
    }
   ],
   "source": [
    "#turn vars into dummies\n",
    "dummy_categoricals = []\n",
    "for categorical in categoricals:\n",
    "    print(categorical,len(df[categorical].unique()))\n",
    "    #avoid trap of dummies\n",
    "    drop_var = sorted(df[categorical].unique())[-1]\n",
    "    temp_df = pd.get_dummies(df[categorical],prefix=categorical)\n",
    "    df = pd.concat([df, temp_df], axis=1)\n",
    "    temp_df.drop('_'.join([categorical, str(drop_var)]),axis=1,inplace=True)\n",
    "    dummy_categoricals += temp_df.columns.tolist()"
   ]
  },
  {
   "cell_type": "code",
   "execution_count": 19,
   "metadata": {
    "collapsed": false
   },
   "outputs": [
    {
     "data": {
      "text/plain": [
       "['Mine_State_Alabama',\n",
       " 'Mine_State_Alaska',\n",
       " 'Mine_State_Arizona',\n",
       " 'Mine_State_Arkansas',\n",
       " 'Mine_State_Colorado',\n",
       " 'Mine_State_Illinois',\n",
       " 'Mine_State_Indiana',\n",
       " 'Mine_State_Kansas',\n",
       " 'Mine_State_Kentucky (East)',\n",
       " 'Mine_State_Kentucky (West)']"
      ]
     },
     "execution_count": 19,
     "metadata": {},
     "output_type": "execute_result"
    }
   ],
   "source": [
    "#look at first 10\n",
    "dummy_categoricals[:10]"
   ]
  },
  {
   "cell_type": "markdown",
   "metadata": {},
   "source": [
    "# Build a model"
   ]
  },
  {
   "cell_type": "code",
   "execution_count": 20,
   "metadata": {
    "collapsed": true
   },
   "outputs": [],
   "source": [
    "#import from sklearn train_test_split & RandomForestRegressor"
   ]
  },
  {
   "cell_type": "code",
   "execution_count": 21,
   "metadata": {
    "collapsed": false
   },
   "outputs": [
    {
     "data": {
      "text/plain": [
       "964"
      ]
     },
     "execution_count": 21,
     "metadata": {},
     "output_type": "execute_result"
    }
   ],
   "source": [
    "len(dummy_categoricals)"
   ]
  },
  {
   "cell_type": "code",
   "execution_count": 22,
   "metadata": {
    "collapsed": false
   },
   "outputs": [
    {
     "data": {
      "text/html": [
       "<div>\n",
       "<table border=\"1\" class=\"dataframe\">\n",
       "  <thead>\n",
       "    <tr style=\"text-align: right;\">\n",
       "      <th></th>\n",
       "      <th>Year</th>\n",
       "      <th>Mine_Name</th>\n",
       "      <th>Mine_State</th>\n",
       "      <th>Mine_County</th>\n",
       "      <th>Mine_Status</th>\n",
       "      <th>Mine_Type</th>\n",
       "      <th>Company_Type</th>\n",
       "      <th>Operation_Type</th>\n",
       "      <th>Operating_Company</th>\n",
       "      <th>Operating_Company_Address</th>\n",
       "      <th>...</th>\n",
       "      <th>Union_Code_United Mine Workers of America</th>\n",
       "      <th>Union_Code_Western Energy Workers</th>\n",
       "      <th>Coal_Supply_Region_Appalachia Central</th>\n",
       "      <th>Coal_Supply_Region_Appalachia Northern</th>\n",
       "      <th>Coal_Supply_Region_Appalachia Southern</th>\n",
       "      <th>Coal_Supply_Region_Illinois Basin</th>\n",
       "      <th>Coal_Supply_Region_Interior</th>\n",
       "      <th>Coal_Supply_Region_Powder River Basin</th>\n",
       "      <th>Coal_Supply_Region_Uinta Region</th>\n",
       "      <th>Coal_Supply_Region_Western</th>\n",
       "    </tr>\n",
       "    <tr>\n",
       "      <th>MSHA ID</th>\n",
       "      <th></th>\n",
       "      <th></th>\n",
       "      <th></th>\n",
       "      <th></th>\n",
       "      <th></th>\n",
       "      <th></th>\n",
       "      <th></th>\n",
       "      <th></th>\n",
       "      <th></th>\n",
       "      <th></th>\n",
       "      <th></th>\n",
       "      <th></th>\n",
       "      <th></th>\n",
       "      <th></th>\n",
       "      <th></th>\n",
       "      <th></th>\n",
       "      <th></th>\n",
       "      <th></th>\n",
       "      <th></th>\n",
       "      <th></th>\n",
       "      <th></th>\n",
       "    </tr>\n",
       "  </thead>\n",
       "  <tbody>\n",
       "    <tr>\n",
       "      <th>103370</th>\n",
       "      <td>2013</td>\n",
       "      <td>Cresent Valley Mine</td>\n",
       "      <td>Alabama</td>\n",
       "      <td>Walker</td>\n",
       "      <td>Temporarily closed</td>\n",
       "      <td>Surface</td>\n",
       "      <td>Independent Producer Operator</td>\n",
       "      <td>Mine only</td>\n",
       "      <td>Reed Minerals, Inc</td>\n",
       "      <td>P.O. Box 2420, Jasper, AL 35502</td>\n",
       "      <td>...</td>\n",
       "      <td>0</td>\n",
       "      <td>0</td>\n",
       "      <td>0</td>\n",
       "      <td>0</td>\n",
       "      <td>1</td>\n",
       "      <td>0</td>\n",
       "      <td>0</td>\n",
       "      <td>0</td>\n",
       "      <td>0</td>\n",
       "      <td>0</td>\n",
       "    </tr>\n",
       "    <tr>\n",
       "      <th>1519701</th>\n",
       "      <td>2013</td>\n",
       "      <td>Wynn / Diamond Mine</td>\n",
       "      <td>Kentucky (West)</td>\n",
       "      <td>Webster</td>\n",
       "      <td>Active</td>\n",
       "      <td>Surface</td>\n",
       "      <td>Independent Producer Operator</td>\n",
       "      <td>Mine only</td>\n",
       "      <td>Highwall Mining, Llc</td>\n",
       "      <td>P.O. Box 2303, Pikeville, KY 41501</td>\n",
       "      <td>...</td>\n",
       "      <td>0</td>\n",
       "      <td>0</td>\n",
       "      <td>0</td>\n",
       "      <td>0</td>\n",
       "      <td>0</td>\n",
       "      <td>1</td>\n",
       "      <td>0</td>\n",
       "      <td>0</td>\n",
       "      <td>0</td>\n",
       "      <td>0</td>\n",
       "    </tr>\n",
       "    <tr>\n",
       "      <th>1202325</th>\n",
       "      <td>2013</td>\n",
       "      <td>Hurricane Creek</td>\n",
       "      <td>Indiana</td>\n",
       "      <td>Gibson</td>\n",
       "      <td>Active</td>\n",
       "      <td>Surface</td>\n",
       "      <td>Operating Subsidiary</td>\n",
       "      <td>Mine only</td>\n",
       "      <td>Triad Mining Inc</td>\n",
       "      <td>14521 E St Rd 58, Edwardsport, IN 47528</td>\n",
       "      <td>...</td>\n",
       "      <td>0</td>\n",
       "      <td>0</td>\n",
       "      <td>0</td>\n",
       "      <td>0</td>\n",
       "      <td>0</td>\n",
       "      <td>1</td>\n",
       "      <td>0</td>\n",
       "      <td>0</td>\n",
       "      <td>0</td>\n",
       "      <td>0</td>\n",
       "    </tr>\n",
       "    <tr>\n",
       "      <th>4609426</th>\n",
       "      <td>2013</td>\n",
       "      <td>Garland Surface Mine</td>\n",
       "      <td>West Virginia (Southern)</td>\n",
       "      <td>Mcdowell</td>\n",
       "      <td>Active</td>\n",
       "      <td>Surface</td>\n",
       "      <td>Independent Producer Operator</td>\n",
       "      <td>Mine only</td>\n",
       "      <td>Stollings Trucking Co., Inc.</td>\n",
       "      <td>P.O. Box 328, Mount Gay, WV 25637</td>\n",
       "      <td>...</td>\n",
       "      <td>0</td>\n",
       "      <td>0</td>\n",
       "      <td>1</td>\n",
       "      <td>0</td>\n",
       "      <td>0</td>\n",
       "      <td>0</td>\n",
       "      <td>0</td>\n",
       "      <td>0</td>\n",
       "      <td>0</td>\n",
       "      <td>0</td>\n",
       "    </tr>\n",
       "    <tr>\n",
       "      <th>1800769</th>\n",
       "      <td>2013</td>\n",
       "      <td>Carlos Surface</td>\n",
       "      <td>Maryland</td>\n",
       "      <td>Allegany</td>\n",
       "      <td>Temporarily closed</td>\n",
       "      <td>Surface</td>\n",
       "      <td>Independent Producer Operator</td>\n",
       "      <td>Mine only</td>\n",
       "      <td>Vindex Energy Corporation</td>\n",
       "      <td>265 Glass Drive, Mountain Lake, MD 21550</td>\n",
       "      <td>...</td>\n",
       "      <td>0</td>\n",
       "      <td>0</td>\n",
       "      <td>0</td>\n",
       "      <td>1</td>\n",
       "      <td>0</td>\n",
       "      <td>0</td>\n",
       "      <td>0</td>\n",
       "      <td>0</td>\n",
       "      <td>0</td>\n",
       "      <td>0</td>\n",
       "    </tr>\n",
       "  </tbody>\n",
       "</table>\n",
       "<p>5 rows × 989 columns</p>\n",
       "</div>"
      ],
      "text/plain": [
       "         Year             Mine_Name                Mine_State Mine_County  \\\n",
       "MSHA ID                                                                     \n",
       "103370   2013   Cresent Valley Mine                   Alabama      Walker   \n",
       "1519701  2013   Wynn / Diamond Mine           Kentucky (West)     Webster   \n",
       "1202325  2013       Hurricane Creek                   Indiana      Gibson   \n",
       "4609426  2013  Garland Surface Mine  West Virginia (Southern)    Mcdowell   \n",
       "1800769  2013        Carlos Surface                  Maryland    Allegany   \n",
       "\n",
       "                Mine_Status Mine_Type                   Company_Type  \\\n",
       "MSHA ID                                                                \n",
       "103370   Temporarily closed   Surface  Independent Producer Operator   \n",
       "1519701              Active   Surface  Independent Producer Operator   \n",
       "1202325              Active   Surface           Operating Subsidiary   \n",
       "4609426              Active   Surface  Independent Producer Operator   \n",
       "1800769  Temporarily closed   Surface  Independent Producer Operator   \n",
       "\n",
       "        Operation_Type             Operating_Company  \\\n",
       "MSHA ID                                                \n",
       "103370       Mine only            Reed Minerals, Inc   \n",
       "1519701      Mine only          Highwall Mining, Llc   \n",
       "1202325      Mine only              Triad Mining Inc   \n",
       "4609426      Mine only  Stollings Trucking Co., Inc.   \n",
       "1800769      Mine only     Vindex Energy Corporation   \n",
       "\n",
       "                        Operating_Company_Address             ...              \\\n",
       "MSHA ID                                                       ...               \n",
       "103370            P.O. Box 2420, Jasper, AL 35502             ...               \n",
       "1519701        P.O. Box 2303, Pikeville, KY 41501             ...               \n",
       "1202325   14521 E St Rd 58, Edwardsport, IN 47528             ...               \n",
       "4609426         P.O. Box 328, Mount Gay, WV 25637             ...               \n",
       "1800769  265 Glass Drive, Mountain Lake, MD 21550             ...               \n",
       "\n",
       "        Union_Code_United Mine Workers of America  \\\n",
       "MSHA ID                                             \n",
       "103370                                          0   \n",
       "1519701                                         0   \n",
       "1202325                                         0   \n",
       "4609426                                         0   \n",
       "1800769                                         0   \n",
       "\n",
       "        Union_Code_Western Energy Workers  \\\n",
       "MSHA ID                                     \n",
       "103370                                  0   \n",
       "1519701                                 0   \n",
       "1202325                                 0   \n",
       "4609426                                 0   \n",
       "1800769                                 0   \n",
       "\n",
       "         Coal_Supply_Region_Appalachia Central  \\\n",
       "MSHA ID                                          \n",
       "103370                                       0   \n",
       "1519701                                      0   \n",
       "1202325                                      0   \n",
       "4609426                                      1   \n",
       "1800769                                      0   \n",
       "\n",
       "         Coal_Supply_Region_Appalachia Northern  \\\n",
       "MSHA ID                                           \n",
       "103370                                        0   \n",
       "1519701                                       0   \n",
       "1202325                                       0   \n",
       "4609426                                       0   \n",
       "1800769                                       1   \n",
       "\n",
       "         Coal_Supply_Region_Appalachia Southern  \\\n",
       "MSHA ID                                           \n",
       "103370                                        1   \n",
       "1519701                                       0   \n",
       "1202325                                       0   \n",
       "4609426                                       0   \n",
       "1800769                                       0   \n",
       "\n",
       "         Coal_Supply_Region_Illinois Basin  Coal_Supply_Region_Interior  \\\n",
       "MSHA ID                                                                   \n",
       "103370                                   0                            0   \n",
       "1519701                                  1                            0   \n",
       "1202325                                  1                            0   \n",
       "4609426                                  0                            0   \n",
       "1800769                                  0                            0   \n",
       "\n",
       "         Coal_Supply_Region_Powder River Basin  \\\n",
       "MSHA ID                                          \n",
       "103370                                       0   \n",
       "1519701                                      0   \n",
       "1202325                                      0   \n",
       "4609426                                      0   \n",
       "1800769                                      0   \n",
       "\n",
       "         Coal_Supply_Region_Uinta Region  Coal_Supply_Region_Western  \n",
       "MSHA ID                                                               \n",
       "103370                                 0                           0  \n",
       "1519701                                0                           0  \n",
       "1202325                                0                           0  \n",
       "4609426                                0                           0  \n",
       "1800769                                0                           0  \n",
       "\n",
       "[5 rows x 989 columns]"
      ]
     },
     "execution_count": 22,
     "metadata": {},
     "output_type": "execute_result"
    }
   ],
   "source": [
    "train, test = train_test_split(df, test_size=0.3)\n",
    "train.head()"
   ]
  },
  {
   "cell_type": "code",
   "execution_count": 23,
   "metadata": {
    "collapsed": false
   },
   "outputs": [],
   "source": [
    "rf = RandomForestRegressor(n_estimators=100, oob_score=True)"
   ]
  },
  {
   "cell_type": "code",
   "execution_count": 24,
   "metadata": {
    "collapsed": false
   },
   "outputs": [
    {
     "data": {
      "text/plain": [
       "RandomForestRegressor(bootstrap=True, criterion='mse', max_depth=None,\n",
       "           max_features='auto', max_leaf_nodes=None,\n",
       "           min_impurity_split=1e-07, min_samples_leaf=1,\n",
       "           min_samples_split=2, min_weight_fraction_leaf=0.0,\n",
       "           n_estimators=100, n_jobs=1, oob_score=True, random_state=None,\n",
       "           verbose=0, warm_start=False)"
      ]
     },
     "execution_count": 24,
     "metadata": {},
     "output_type": "execute_result"
    }
   ],
   "source": [
    "rf.fit(train[features + dummy_categoricals], train[target])"
   ]
  },
  {
   "cell_type": "code",
   "execution_count": 25,
   "metadata": {
    "collapsed": false
   },
   "outputs": [
    {
     "data": {
      "image/png": "[encoded data removed]",
      "text/plain": [
       "<matplotlib.figure.Figure at 0x1c6a6759470>"
      ]
     },
     "metadata": {},
     "output_type": "display_data"
    }
   ],
   "source": [
    "fig = plt.subplots(figsize=(8,8))\n",
    "sns.regplot(test[target],rf.predict(test[features + dummy_categoricals]))\n",
    "plt.ylabel(\"Predicted production\")\n",
    "plt.xlim(0,22)\n",
    "plt.ylim(0,22)\n",
    "plt.tight_layout()"
   ]
  },
  {
   "cell_type": "code",
   "execution_count": 26,
   "metadata": {
    "collapsed": true
   },
   "outputs": [],
   "source": [
    "#input = true & predicted\n",
    "#test matrics by importing explained_variance_score, r2_score, mean_squared_error"
   ]
  },
  {
   "cell_type": "code",
   "execution_count": 27,
   "metadata": {
    "collapsed": false
   },
   "outputs": [
    {
     "data": {
      "text/plain": [
       "0.87141503371439788"
      ]
     },
     "execution_count": 27,
     "metadata": {},
     "output_type": "execute_result"
    }
   ],
   "source": [
    "r2_score(test[target], rf.predict(test[features + dummy_categoricals]))"
   ]
  },
  {
   "cell_type": "code",
   "execution_count": 28,
   "metadata": {
    "collapsed": false
   },
   "outputs": [
    {
     "data": {
      "text/plain": [
       "0.87141541775555298"
      ]
     },
     "execution_count": 28,
     "metadata": {},
     "output_type": "execute_result"
    }
   ],
   "source": [
    "explained_variance_score(test[target],rf.predict(test[features + dummy_categoricals]))"
   ]
  },
  {
   "cell_type": "code",
   "execution_count": 29,
   "metadata": {
    "collapsed": false
   },
   "outputs": [
    {
     "data": {
      "text/plain": [
       "0.5963676126890729"
      ]
     },
     "execution_count": 29,
     "metadata": {},
     "output_type": "execute_result"
    }
   ],
   "source": [
    "mean_squared_error(test[target], rf.predict(test[features + dummy_categoricals]))"
   ]
  },
  {
   "cell_type": "code",
   "execution_count": 30,
   "metadata": {
    "collapsed": false
   },
   "outputs": [
    {
     "ename": "SyntaxError",
     "evalue": "invalid syntax (<ipython-input-30-a5b58a1fc6c1>, line 5)",
     "output_type": "error",
     "traceback": [
      "\u001b[0;36m  File \u001b[0;32m\"<ipython-input-30-a5b58a1fc6c1>\"\u001b[0;36m, line \u001b[0;32m5\u001b[0m\n\u001b[0;31m    rf_importances.head(20)\u001b[0m\n\u001b[0m                 ^\u001b[0m\n\u001b[0;31mSyntaxError\u001b[0m\u001b[0;31m:\u001b[0m invalid syntax\n"
     ]
    }
   ],
   "source": [
    "rf_importances = pd.DataFrame({'name': train[features + dummy_categoricals].columns,\n",
    "                              'importance': rf.feature_importances_\n",
    "                              }).sort_values(by='importance', \n",
    "                                             ascending=False).reset_index(drop=True\n",
    "rf_importances.head(20)"
   ]
  },
  {
   "cell_type": "code",
   "execution_count": null,
   "metadata": {
    "collapsed": true
   },
   "outputs": [],
   "source": []
  }
 ],
 "metadata": {
  "anaconda-cloud": {},
  "kernelspec": {
   "display_name": "Python [default]",
   "language": "python",
   "name": "python3"
  },
  "language_info": {
   "codemirror_mode": {
    "name": "ipython",
    "version": 3
   },
   "file_extension": ".py",
   "mimetype": "text/x-python",
   "name": "python",
   "nbconvert_exporter": "python",
   "pygments_lexer": "ipython3",
   "version": "3.5.2"
  }
 },
 "nbformat": 4,
 "nbformat_minor": 1
}
